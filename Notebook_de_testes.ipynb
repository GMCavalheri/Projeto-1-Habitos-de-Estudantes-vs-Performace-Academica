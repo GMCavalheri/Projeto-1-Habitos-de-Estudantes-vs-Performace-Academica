{
 "cells": [
  {
   "cell_type": "markdown",
   "id": "3d2e9ea7",
   "metadata": {},
   "source": [
    "### Aqui começa o notebook de testes, no qual foi realizado o ETL dos dados de perfomance e hábitos dos Estudantes"
   ]
  },
  {
   "cell_type": "markdown",
   "id": "c0c11953",
   "metadata": {},
   "source": [
    "O primeiro passo é realizar o carregamento dos dados, que estão no formato csv. Para isso foi importado o pacote Pandas."
   ]
  },
  {
   "cell_type": "code",
   "execution_count": 1,
   "id": "b33415d2",
   "metadata": {},
   "outputs": [],
   "source": [
    "import pandas as pd"
   ]
  },
  {
   "cell_type": "markdown",
   "id": "1b83585d",
   "metadata": {},
   "source": [
    "Carregamos o arquivo e atribuimos a variável df, que é do tipo Dataframe.\n"
   ]
  },
  {
   "cell_type": "code",
   "execution_count": 2,
   "id": "6685ef03",
   "metadata": {},
   "outputs": [],
   "source": [
    "df = pd.read_csv(\"student_habits_performance.csv\")"
   ]
  },
  {
   "cell_type": "markdown",
   "id": "8f3f80db",
   "metadata": {},
   "source": [
    "Utilizando o método 'head' e passando o parâmetro 5, podemos analisar as primeiras 5 linhas do Dataframe."
   ]
  },
  {
   "cell_type": "code",
   "execution_count": 4,
   "id": "1d7c0a18",
   "metadata": {},
   "outputs": [
    {
     "data": {
      "text/html": [
       "<div>\n",
       "<style scoped>\n",
       "    .dataframe tbody tr th:only-of-type {\n",
       "        vertical-align: middle;\n",
       "    }\n",
       "\n",
       "    .dataframe tbody tr th {\n",
       "        vertical-align: top;\n",
       "    }\n",
       "\n",
       "    .dataframe thead th {\n",
       "        text-align: right;\n",
       "    }\n",
       "</style>\n",
       "<table border=\"1\" class=\"dataframe\">\n",
       "  <thead>\n",
       "    <tr style=\"text-align: right;\">\n",
       "      <th></th>\n",
       "      <th>student_id</th>\n",
       "      <th>age</th>\n",
       "      <th>gender</th>\n",
       "      <th>study_hours_per_day</th>\n",
       "      <th>social_media_hours</th>\n",
       "      <th>netflix_hours</th>\n",
       "      <th>part_time_job</th>\n",
       "      <th>attendance_percentage</th>\n",
       "      <th>sleep_hours</th>\n",
       "      <th>diet_quality</th>\n",
       "      <th>exercise_frequency</th>\n",
       "      <th>parental_education_level</th>\n",
       "      <th>internet_quality</th>\n",
       "      <th>mental_health_rating</th>\n",
       "      <th>extracurricular_participation</th>\n",
       "      <th>exam_score</th>\n",
       "    </tr>\n",
       "  </thead>\n",
       "  <tbody>\n",
       "    <tr>\n",
       "      <th>0</th>\n",
       "      <td>S1000</td>\n",
       "      <td>23</td>\n",
       "      <td>Female</td>\n",
       "      <td>0.0</td>\n",
       "      <td>1.2</td>\n",
       "      <td>1.1</td>\n",
       "      <td>No</td>\n",
       "      <td>85.0</td>\n",
       "      <td>8.0</td>\n",
       "      <td>Fair</td>\n",
       "      <td>6</td>\n",
       "      <td>Master</td>\n",
       "      <td>Average</td>\n",
       "      <td>8</td>\n",
       "      <td>Yes</td>\n",
       "      <td>56.2</td>\n",
       "    </tr>\n",
       "    <tr>\n",
       "      <th>1</th>\n",
       "      <td>S1001</td>\n",
       "      <td>20</td>\n",
       "      <td>Female</td>\n",
       "      <td>6.9</td>\n",
       "      <td>2.8</td>\n",
       "      <td>2.3</td>\n",
       "      <td>No</td>\n",
       "      <td>97.3</td>\n",
       "      <td>4.6</td>\n",
       "      <td>Good</td>\n",
       "      <td>6</td>\n",
       "      <td>High School</td>\n",
       "      <td>Average</td>\n",
       "      <td>8</td>\n",
       "      <td>No</td>\n",
       "      <td>100.0</td>\n",
       "    </tr>\n",
       "    <tr>\n",
       "      <th>2</th>\n",
       "      <td>S1002</td>\n",
       "      <td>21</td>\n",
       "      <td>Male</td>\n",
       "      <td>1.4</td>\n",
       "      <td>3.1</td>\n",
       "      <td>1.3</td>\n",
       "      <td>No</td>\n",
       "      <td>94.8</td>\n",
       "      <td>8.0</td>\n",
       "      <td>Poor</td>\n",
       "      <td>1</td>\n",
       "      <td>High School</td>\n",
       "      <td>Poor</td>\n",
       "      <td>1</td>\n",
       "      <td>No</td>\n",
       "      <td>34.3</td>\n",
       "    </tr>\n",
       "    <tr>\n",
       "      <th>3</th>\n",
       "      <td>S1003</td>\n",
       "      <td>23</td>\n",
       "      <td>Female</td>\n",
       "      <td>1.0</td>\n",
       "      <td>3.9</td>\n",
       "      <td>1.0</td>\n",
       "      <td>No</td>\n",
       "      <td>71.0</td>\n",
       "      <td>9.2</td>\n",
       "      <td>Poor</td>\n",
       "      <td>4</td>\n",
       "      <td>Master</td>\n",
       "      <td>Good</td>\n",
       "      <td>1</td>\n",
       "      <td>Yes</td>\n",
       "      <td>26.8</td>\n",
       "    </tr>\n",
       "    <tr>\n",
       "      <th>4</th>\n",
       "      <td>S1004</td>\n",
       "      <td>19</td>\n",
       "      <td>Female</td>\n",
       "      <td>5.0</td>\n",
       "      <td>4.4</td>\n",
       "      <td>0.5</td>\n",
       "      <td>No</td>\n",
       "      <td>90.9</td>\n",
       "      <td>4.9</td>\n",
       "      <td>Fair</td>\n",
       "      <td>3</td>\n",
       "      <td>Master</td>\n",
       "      <td>Good</td>\n",
       "      <td>1</td>\n",
       "      <td>No</td>\n",
       "      <td>66.4</td>\n",
       "    </tr>\n",
       "  </tbody>\n",
       "</table>\n",
       "</div>"
      ],
      "text/plain": [
       "  student_id  age  gender  study_hours_per_day  social_media_hours  \\\n",
       "0      S1000   23  Female                  0.0                 1.2   \n",
       "1      S1001   20  Female                  6.9                 2.8   \n",
       "2      S1002   21    Male                  1.4                 3.1   \n",
       "3      S1003   23  Female                  1.0                 3.9   \n",
       "4      S1004   19  Female                  5.0                 4.4   \n",
       "\n",
       "   netflix_hours part_time_job  attendance_percentage  sleep_hours  \\\n",
       "0            1.1            No                   85.0          8.0   \n",
       "1            2.3            No                   97.3          4.6   \n",
       "2            1.3            No                   94.8          8.0   \n",
       "3            1.0            No                   71.0          9.2   \n",
       "4            0.5            No                   90.9          4.9   \n",
       "\n",
       "  diet_quality  exercise_frequency parental_education_level internet_quality  \\\n",
       "0         Fair                   6                   Master          Average   \n",
       "1         Good                   6              High School          Average   \n",
       "2         Poor                   1              High School             Poor   \n",
       "3         Poor                   4                   Master             Good   \n",
       "4         Fair                   3                   Master             Good   \n",
       "\n",
       "   mental_health_rating extracurricular_participation  exam_score  \n",
       "0                     8                           Yes        56.2  \n",
       "1                     8                            No       100.0  \n",
       "2                     1                            No        34.3  \n",
       "3                     1                           Yes        26.8  \n",
       "4                     1                            No        66.4  "
      ]
     },
     "execution_count": 4,
     "metadata": {},
     "output_type": "execute_result"
    }
   ],
   "source": [
    "df.head(5)"
   ]
  },
  {
   "cell_type": "markdown",
   "id": "b9fe9571",
   "metadata": {},
   "source": [
    "O primeiro passo de toda análise de dados, é verificar os tipos de dados que possuimos, bem como se há anomalias dentro dos dados que estamos analisando (dados nulos, incorretos, faltantes). Para isso, utilizamos o método 'info' do Dataframe, que retorna os tipos de dados de cada"
   ]
  },
  {
   "cell_type": "code",
   "execution_count": 3,
   "id": "8817dbb8",
   "metadata": {},
   "outputs": [
    {
     "name": "stdout",
     "output_type": "stream",
     "text": [
      "<class 'pandas.core.frame.DataFrame'>\n",
      "RangeIndex: 1000 entries, 0 to 999\n",
      "Data columns (total 16 columns):\n",
      " #   Column                         Non-Null Count  Dtype  \n",
      "---  ------                         --------------  -----  \n",
      " 0   student_id                     1000 non-null   object \n",
      " 1   age                            1000 non-null   int64  \n",
      " 2   gender                         1000 non-null   object \n",
      " 3   study_hours_per_day            1000 non-null   float64\n",
      " 4   social_media_hours             1000 non-null   float64\n",
      " 5   netflix_hours                  1000 non-null   float64\n",
      " 6   part_time_job                  1000 non-null   object \n",
      " 7   attendance_percentage          1000 non-null   float64\n",
      " 8   sleep_hours                    1000 non-null   float64\n",
      " 9   diet_quality                   1000 non-null   object \n",
      " 10  exercise_frequency             1000 non-null   int64  \n",
      " 11  parental_education_level       1000 non-null   object \n",
      " 12  internet_quality               1000 non-null   object \n",
      " 13  mental_health_rating           1000 non-null   int64  \n",
      " 14  extracurricular_participation  1000 non-null   object \n",
      " 15  exam_score                     1000 non-null   float64\n",
      "dtypes: float64(6), int64(3), object(7)\n",
      "memory usage: 125.1+ KB\n"
     ]
    }
   ],
   "source": [
    "df.info()"
   ]
  },
  {
   "cell_type": "markdown",
   "id": "0e462302",
   "metadata": {},
   "source": [
    "Podemos observar que não há valores nulos, visto que o total de linhas é 1000 e todas as colunas não possuem valores nulos. O próximo passo é verificar as colunas que nos interessam e separá-las em um dataframe a parte.\n",
    "A nossa análise vai se focar no número de horas de estudo, número de horas de sono, a qualidade da alimentação e o resultado do exame final. Esse novo Dataframe será 'df_selecionado'."
   ]
  },
  {
   "cell_type": "code",
   "execution_count": 22,
   "id": "17005366",
   "metadata": {},
   "outputs": [],
   "source": [
    "df_selecionado = df[['study_hours_per_day','sleep_hours','diet_quality','exam_score']].copy()"
   ]
  },
  {
   "cell_type": "code",
   "execution_count": 23,
   "id": "6964dd4a",
   "metadata": {},
   "outputs": [
    {
     "data": {
      "text/html": [
       "<div>\n",
       "<style scoped>\n",
       "    .dataframe tbody tr th:only-of-type {\n",
       "        vertical-align: middle;\n",
       "    }\n",
       "\n",
       "    .dataframe tbody tr th {\n",
       "        vertical-align: top;\n",
       "    }\n",
       "\n",
       "    .dataframe thead th {\n",
       "        text-align: right;\n",
       "    }\n",
       "</style>\n",
       "<table border=\"1\" class=\"dataframe\">\n",
       "  <thead>\n",
       "    <tr style=\"text-align: right;\">\n",
       "      <th></th>\n",
       "      <th>study_hours_per_day</th>\n",
       "      <th>sleep_hours</th>\n",
       "      <th>diet_quality</th>\n",
       "      <th>exam_score</th>\n",
       "    </tr>\n",
       "  </thead>\n",
       "  <tbody>\n",
       "    <tr>\n",
       "      <th>0</th>\n",
       "      <td>0.0</td>\n",
       "      <td>8.0</td>\n",
       "      <td>Fair</td>\n",
       "      <td>56.2</td>\n",
       "    </tr>\n",
       "    <tr>\n",
       "      <th>1</th>\n",
       "      <td>6.9</td>\n",
       "      <td>4.6</td>\n",
       "      <td>Good</td>\n",
       "      <td>100.0</td>\n",
       "    </tr>\n",
       "    <tr>\n",
       "      <th>2</th>\n",
       "      <td>1.4</td>\n",
       "      <td>8.0</td>\n",
       "      <td>Poor</td>\n",
       "      <td>34.3</td>\n",
       "    </tr>\n",
       "    <tr>\n",
       "      <th>3</th>\n",
       "      <td>1.0</td>\n",
       "      <td>9.2</td>\n",
       "      <td>Poor</td>\n",
       "      <td>26.8</td>\n",
       "    </tr>\n",
       "    <tr>\n",
       "      <th>4</th>\n",
       "      <td>5.0</td>\n",
       "      <td>4.9</td>\n",
       "      <td>Fair</td>\n",
       "      <td>66.4</td>\n",
       "    </tr>\n",
       "  </tbody>\n",
       "</table>\n",
       "</div>"
      ],
      "text/plain": [
       "   study_hours_per_day  sleep_hours diet_quality  exam_score\n",
       "0                  0.0          8.0         Fair        56.2\n",
       "1                  6.9          4.6         Good       100.0\n",
       "2                  1.4          8.0         Poor        34.3\n",
       "3                  1.0          9.2         Poor        26.8\n",
       "4                  5.0          4.9         Fair        66.4"
      ]
     },
     "execution_count": 23,
     "metadata": {},
     "output_type": "execute_result"
    }
   ],
   "source": [
    "df_selecionado.head(5)"
   ]
  },
  {
   "cell_type": "markdown",
   "id": "d7a67567",
   "metadata": {},
   "source": [
    "Agora, iremos analisar traduzir tanto os nomes das colunas, quanto os dos dados contidos nelas. Vamos começar renomeando as colunas com o método 'rename'"
   ]
  },
  {
   "cell_type": "code",
   "execution_count": 24,
   "id": "0015bbef",
   "metadata": {},
   "outputs": [],
   "source": [
    "renomear ={\n",
    "    \"study_hours_per_day\" : \"Horas de estudo por dia\",\n",
    "    \"sleep_hours\" : \"Horas de sono por dia\",\n",
    "    \"diet_quality\" : \"Nível de qualidade da dieta\",\n",
    "    \"exam_score\" : \"Resultado do exame final\"\n",
    "}\n",
    "\n",
    "df_selecionado = df_selecionado.rename(columns=renomear)"
   ]
  },
  {
   "cell_type": "code",
   "execution_count": 25,
   "id": "66be640c",
   "metadata": {},
   "outputs": [
    {
     "data": {
      "text/html": [
       "<div>\n",
       "<style scoped>\n",
       "    .dataframe tbody tr th:only-of-type {\n",
       "        vertical-align: middle;\n",
       "    }\n",
       "\n",
       "    .dataframe tbody tr th {\n",
       "        vertical-align: top;\n",
       "    }\n",
       "\n",
       "    .dataframe thead th {\n",
       "        text-align: right;\n",
       "    }\n",
       "</style>\n",
       "<table border=\"1\" class=\"dataframe\">\n",
       "  <thead>\n",
       "    <tr style=\"text-align: right;\">\n",
       "      <th></th>\n",
       "      <th>Horas de estudo por dia</th>\n",
       "      <th>Horas de sono por dia</th>\n",
       "      <th>Nível de qualidade da dieta</th>\n",
       "      <th>Resultado do exame final</th>\n",
       "    </tr>\n",
       "  </thead>\n",
       "  <tbody>\n",
       "    <tr>\n",
       "      <th>0</th>\n",
       "      <td>0.0</td>\n",
       "      <td>8.0</td>\n",
       "      <td>Fair</td>\n",
       "      <td>56.2</td>\n",
       "    </tr>\n",
       "    <tr>\n",
       "      <th>1</th>\n",
       "      <td>6.9</td>\n",
       "      <td>4.6</td>\n",
       "      <td>Good</td>\n",
       "      <td>100.0</td>\n",
       "    </tr>\n",
       "    <tr>\n",
       "      <th>2</th>\n",
       "      <td>1.4</td>\n",
       "      <td>8.0</td>\n",
       "      <td>Poor</td>\n",
       "      <td>34.3</td>\n",
       "    </tr>\n",
       "    <tr>\n",
       "      <th>3</th>\n",
       "      <td>1.0</td>\n",
       "      <td>9.2</td>\n",
       "      <td>Poor</td>\n",
       "      <td>26.8</td>\n",
       "    </tr>\n",
       "    <tr>\n",
       "      <th>4</th>\n",
       "      <td>5.0</td>\n",
       "      <td>4.9</td>\n",
       "      <td>Fair</td>\n",
       "      <td>66.4</td>\n",
       "    </tr>\n",
       "  </tbody>\n",
       "</table>\n",
       "</div>"
      ],
      "text/plain": [
       "   Horas de estudo por dia  Horas de sono por dia Nível de qualidade da dieta  \\\n",
       "0                      0.0                    8.0                        Fair   \n",
       "1                      6.9                    4.6                        Good   \n",
       "2                      1.4                    8.0                        Poor   \n",
       "3                      1.0                    9.2                        Poor   \n",
       "4                      5.0                    4.9                        Fair   \n",
       "\n",
       "   Resultado do exame final  \n",
       "0                      56.2  \n",
       "1                     100.0  \n",
       "2                      34.3  \n",
       "3                      26.8  \n",
       "4                      66.4  "
      ]
     },
     "execution_count": 25,
     "metadata": {},
     "output_type": "execute_result"
    }
   ],
   "source": [
    "df_selecionado.head()"
   ]
  },
  {
   "cell_type": "markdown",
   "id": "fda0dcf6",
   "metadata": {},
   "source": [
    "Para realizar a tradução dos valores da coluna 'Nível de qualidade da dieta', é necessário saber quais são os valores únicos dentro desta coluna. Para isso, utilizamos o método 'unique'."
   ]
  },
  {
   "cell_type": "code",
   "execution_count": 26,
   "id": "27f5f237",
   "metadata": {},
   "outputs": [
    {
     "data": {
      "text/plain": [
       "array(['Fair', 'Good', 'Poor'], dtype=object)"
      ]
     },
     "execution_count": 26,
     "metadata": {},
     "output_type": "execute_result"
    }
   ],
   "source": [
    "df_selecionado['Nível de qualidade da dieta'].unique()"
   ]
  },
  {
   "cell_type": "markdown",
   "id": "c4d4211b",
   "metadata": {},
   "source": [
    "Descobrimos que os valores unicos, agora iremos traduzi-los. Para isso, utilizamos o método 'map' direto na coluna que queremos traduzir."
   ]
  },
  {
   "cell_type": "code",
   "execution_count": 27,
   "id": "269c31f2",
   "metadata": {},
   "outputs": [],
   "source": [
    "renomear = {\n",
    "    'Poor' : \"Pobre\",\n",
    "    'Good' : \"Boa\",\n",
    "    'Fair' : \"Razoável\"\n",
    "}\n",
    "\n",
    "df_selecionado['Nível de qualidade da dieta'] = df_selecionado['Nível de qualidade da dieta'].map(renomear)"
   ]
  },
  {
   "cell_type": "code",
   "execution_count": 28,
   "id": "961bcef6",
   "metadata": {},
   "outputs": [
    {
     "data": {
      "text/html": [
       "<div>\n",
       "<style scoped>\n",
       "    .dataframe tbody tr th:only-of-type {\n",
       "        vertical-align: middle;\n",
       "    }\n",
       "\n",
       "    .dataframe tbody tr th {\n",
       "        vertical-align: top;\n",
       "    }\n",
       "\n",
       "    .dataframe thead th {\n",
       "        text-align: right;\n",
       "    }\n",
       "</style>\n",
       "<table border=\"1\" class=\"dataframe\">\n",
       "  <thead>\n",
       "    <tr style=\"text-align: right;\">\n",
       "      <th></th>\n",
       "      <th>Horas de estudo por dia</th>\n",
       "      <th>Horas de sono por dia</th>\n",
       "      <th>Nível de qualidade da dieta</th>\n",
       "      <th>Resultado do exame final</th>\n",
       "    </tr>\n",
       "  </thead>\n",
       "  <tbody>\n",
       "    <tr>\n",
       "      <th>0</th>\n",
       "      <td>0.0</td>\n",
       "      <td>8.0</td>\n",
       "      <td>Razoável</td>\n",
       "      <td>56.2</td>\n",
       "    </tr>\n",
       "    <tr>\n",
       "      <th>1</th>\n",
       "      <td>6.9</td>\n",
       "      <td>4.6</td>\n",
       "      <td>Boa</td>\n",
       "      <td>100.0</td>\n",
       "    </tr>\n",
       "    <tr>\n",
       "      <th>2</th>\n",
       "      <td>1.4</td>\n",
       "      <td>8.0</td>\n",
       "      <td>Pobre</td>\n",
       "      <td>34.3</td>\n",
       "    </tr>\n",
       "    <tr>\n",
       "      <th>3</th>\n",
       "      <td>1.0</td>\n",
       "      <td>9.2</td>\n",
       "      <td>Pobre</td>\n",
       "      <td>26.8</td>\n",
       "    </tr>\n",
       "    <tr>\n",
       "      <th>4</th>\n",
       "      <td>5.0</td>\n",
       "      <td>4.9</td>\n",
       "      <td>Razoável</td>\n",
       "      <td>66.4</td>\n",
       "    </tr>\n",
       "  </tbody>\n",
       "</table>\n",
       "</div>"
      ],
      "text/plain": [
       "   Horas de estudo por dia  Horas de sono por dia Nível de qualidade da dieta  \\\n",
       "0                      0.0                    8.0                    Razoável   \n",
       "1                      6.9                    4.6                         Boa   \n",
       "2                      1.4                    8.0                       Pobre   \n",
       "3                      1.0                    9.2                       Pobre   \n",
       "4                      5.0                    4.9                    Razoável   \n",
       "\n",
       "   Resultado do exame final  \n",
       "0                      56.2  \n",
       "1                     100.0  \n",
       "2                      34.3  \n",
       "3                      26.8  \n",
       "4                      66.4  "
      ]
     },
     "execution_count": 28,
     "metadata": {},
     "output_type": "execute_result"
    }
   ],
   "source": [
    "df_selecionado.head()"
   ]
  },
  {
   "cell_type": "markdown",
   "id": "bd23a34d",
   "metadata": {},
   "source": [
    "Agora, iremos criar um novo arquivo .csv, com apenas os dados que iremos utilizar no Power BI. Todo este tratamento foi realizado, com o intuito de reduzir a quantidade de dados que devem ser carregados e trabalhados no Power BI, representando um ganho expressivo de performance, mesmo para um arquivo pequeno."
   ]
  },
  {
   "cell_type": "code",
   "execution_count": 29,
   "id": "f32604ce",
   "metadata": {},
   "outputs": [],
   "source": [
    "df_selecionado.to_csv('dados_trabalhados.csv', sep=',', index=False)"
   ]
  }
 ],
 "metadata": {
  "kernelspec": {
   "display_name": "base",
   "language": "python",
   "name": "python3"
  },
  "language_info": {
   "codemirror_mode": {
    "name": "ipython",
    "version": 3
   },
   "file_extension": ".py",
   "mimetype": "text/x-python",
   "name": "python",
   "nbconvert_exporter": "python",
   "pygments_lexer": "ipython3",
   "version": "3.10.9"
  }
 },
 "nbformat": 4,
 "nbformat_minor": 5
}
